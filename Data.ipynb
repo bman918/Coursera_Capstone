{
 "cells": [
  {
   "cell_type": "markdown",
   "metadata": {},
   "source": [
    "# Data"
   ]
  },
  {
   "cell_type": "markdown",
   "metadata": {},
   "source": [
    "## Assignment"
   ]
  },
  {
   "cell_type": "markdown",
   "metadata": {},
   "source": [
    "Describe the data that you will be using to solve the problem or execute your idea. So make sure that you provide adequate explanation and discussion, with examples, of the data that you will be using."
   ]
  },
  {
   "cell_type": "markdown",
   "metadata": {},
   "source": [
    "## Submission"
   ]
  },
  {
   "cell_type": "markdown",
   "metadata": {},
   "source": [
    "A dataset from the Seattle Department of Transportation (SDOT) will be used to create and train multiple models, which will be evaluated for a comparison of each model’s accuracy. The SDOT data set includes entries for nearly 195,000 accidents from 2004 to the present. The severity of each accident is categorized with multiple features to choose from for modeling. A few examples of the features are as follows:\n",
    "* Collision Address Type (Alley, Block, Intersection)\n",
    "* Location\n",
    "* Collision Type\n",
    "* Number of people involved in the collision\n",
    "* Number of pedestrians involved in the collision\n",
    "* Number of cyclists involved in the collision\n",
    "* Number of vehicles involved in the collision\n",
    "* Number of fatalities\n",
    "* Weather conditions\n",
    "* Road conditions\n",
    "* Lighting Conditions\n",
    "* And more\n",
    "\n",
    "The primary focus of this investigation are the environmental driving conditions at the time of the collision. Therefore, the following features will be investigated:\n",
    "* Weather conditions (WEATHER)\n",
    "* Road conditions (ROADCOND)\n",
    "* Light conditions (LIGHTCOND)"
   ]
  }
 ],
 "metadata": {
  "kernelspec": {
   "display_name": "Python 3",
   "language": "python",
   "name": "python3"
  },
  "language_info": {
   "codemirror_mode": {
    "name": "ipython",
    "version": 3
   },
   "file_extension": ".py",
   "mimetype": "text/x-python",
   "name": "python",
   "nbconvert_exporter": "python",
   "pygments_lexer": "ipython3",
   "version": "3.8.3"
  }
 },
 "nbformat": 4,
 "nbformat_minor": 4
}
